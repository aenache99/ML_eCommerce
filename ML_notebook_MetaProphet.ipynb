{
 "cells": [
  {
   "cell_type": "markdown",
   "source": [
    "# Machine Learning Model for eCommerce:\n",
    "### This project is meant for a potential eCommerce business.\n",
    "### The key to success is to know what people want now and the future trends. In order to stand out as a eCommerce marketplace, we need to know what the people want today and tomorrow."
   ],
   "metadata": {
    "collapsed": false
   },
   "id": "c035b8ae3f36f73c"
  },
  {
   "cell_type": "markdown",
   "source": [
    "### Importing the libraries needed:"
   ],
   "metadata": {
    "collapsed": false
   },
   "id": "4128bc4cf52c9d45"
  },
  {
   "cell_type": "code",
   "execution_count": null,
   "outputs": [],
   "source": [
    "import pandas as pd\n",
    "import numpy as np\n",
    "import matplotlib.pyplot as plt\n",
    "from fbprophet import Prophet"
   ],
   "metadata": {
    "collapsed": false
   },
   "id": "23ac2f989cf2b2c6"
  },
  {
   "cell_type": "code",
   "execution_count": null,
   "outputs": [],
   "source": [],
   "metadata": {
    "collapsed": false
   },
   "id": "9b2ccb074438dbf4"
  }
 ],
 "metadata": {
  "kernelspec": {
   "display_name": "Python 3",
   "language": "python",
   "name": "python3"
  },
  "language_info": {
   "codemirror_mode": {
    "name": "ipython",
    "version": 2
   },
   "file_extension": ".py",
   "mimetype": "text/x-python",
   "name": "python",
   "nbconvert_exporter": "python",
   "pygments_lexer": "ipython2",
   "version": "2.7.6"
  }
 },
 "nbformat": 4,
 "nbformat_minor": 5
}
